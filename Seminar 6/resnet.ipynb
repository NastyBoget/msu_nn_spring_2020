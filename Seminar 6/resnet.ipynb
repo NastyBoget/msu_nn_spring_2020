{
 "cells": [
  {
   "cell_type": "code",
   "execution_count": 1,
   "metadata": {},
   "outputs": [],
   "source": [
    "import sys\n",
    "import os\n",
    "import math\n",
    "from batchnorm import SynchronizedBatchNorm2d\n",
    "import numpy as np\n",
    "import pandas as pd\n",
    "import matplotlib.pyplot as plt\n",
    "from tqdm import tqdm\n",
    "\n",
    "import torch as t\n",
    "from torch.utils import data\n",
    "from torchvision import transforms as tsf\n",
    "import scipy.misc\n",
    "\n",
    "from pathlib import Path\n",
    "\n",
    "from PIL import Image\n",
    "import skimage\n",
    "from skimage import io\n",
    "import skimage.transform\n",
    "import PIL\n",
    "import imageio\n",
    "from IPython.display import clear_output\n",
    "\n",
    "TRAIN_PATH = './train.pth'\n",
    "TEST_PATH = './test.tph'\n",
    "%matplotlib inline\n",
    "BatchNorm2d = SynchronizedBatchNorm2d"
   ]
  },
  {
   "cell_type": "code",
   "execution_count": 2,
   "metadata": {},
   "outputs": [
    {
     "name": "stderr",
     "output_type": "stream",
     "text": [
      "/home/ubuntu/miniconda3/lib/python3.7/site-packages/imageio/plugins/_tifffile.py:8388: UserWarning: unexpected end of LZW stream (code 0)\n",
      "  warnings.warn('unexpected end of LZW stream (code %i)' % code)\n"
     ]
    }
   ],
   "source": [
    "def process(dataset_path, mask_path=None):\n",
    "    data = []\n",
    "    if mask_path:\n",
    "        mask_path = Path(mask_path)\n",
    "\n",
    "    for image in sorted(Path(dataset_path).iterdir()):\n",
    "        item = {}\n",
    "        img = io.imread(image)\n",
    "        \n",
    "        if img.shape[2] > 3:\n",
    "            assert(img[:,:,3] != 255).sum()==0\n",
    "        \n",
    "        img = img[:,:,:3]\n",
    "        item['name'] = image.name.split(\"_\")[0]\n",
    "        item['img'] = t.from_numpy(img)\n",
    "        if mask_path:\n",
    "            mask = io.imread(mask_path / (item['name'] + \"_manual1.gif\"))\n",
    "            item['mask'] = t.from_numpy(mask)\n",
    "        data.append(item)\n",
    "    \n",
    "    return data\n",
    "test = process('test/images/')\n",
    "t.save(test, TEST_PATH)\n",
    "train_data = process('train/images', \"train/1st_manual/\")"
   ]
  },
  {
   "cell_type": "code",
   "execution_count": 3,
   "metadata": {},
   "outputs": [],
   "source": [
    "class Dataset():\n",
    "    def __init__(self, data, source_transform, target_transform):\n",
    "        self.datas = data\n",
    "        self.s_transform = source_transform\n",
    "        self.t_transform = target_transform\n",
    "    def __getitem__(self, index):\n",
    "        data = self.datas[index]\n",
    "        img = data['img'].numpy()\n",
    "        mask = data['mask'][:,:,None].byte().numpy()\n",
    "        img = self.s_transform(img)\n",
    "        mask = self.t_transform(mask)\n",
    "        return img, mask\n",
    "    def __len__(self):\n",
    "        return len(self.datas)\n",
    "s_trans = tsf.Compose([\n",
    "    tsf.ToPILImage(),\n",
    "    tsf.Resize((128, 128)),\n",
    "    tsf.ToTensor(),\n",
    "    tsf.Normalize(mean = [0.5, 0.5, 0.5],std = [0.5, 0.5, 0.5])\n",
    "]\n",
    ")\n",
    "t_trans = tsf.Compose([\n",
    "    tsf.ToPILImage(),\n",
    "    tsf.Resize((128, 128), interpolation=PIL.Image.NEAREST),\n",
    "    tsf.ToTensor()]\n",
    ")\n",
    "dataset = Dataset(train_data, s_trans, t_trans)"
   ]
  },
  {
   "cell_type": "code",
   "execution_count": 32,
   "metadata": {},
   "outputs": [],
   "source": [
    "X_train = [dataset[i] for i in range (0, 20)]"
   ]
  },
  {
   "cell_type": "code",
   "execution_count": 5,
   "metadata": {},
   "outputs": [],
   "source": [
    "class RotatedDataset():\n",
    "    def __init__(self, data, angle):\n",
    "        self.datas = data\n",
    "        self.angle = angle\n",
    "        self.s_transform = tsf.Compose([\n",
    "            tsf.ToPILImage(),\n",
    "            tsf.Lambda(lambda x: tsf.functional.affine(x, self.angle,\n",
    "                                                       translate=(0, 0), scale=1, \n",
    "                                                       shear = False)),\n",
    "            tsf.Resize((128, 128)),\n",
    "            tsf.ToTensor(),\n",
    "            tsf.Normalize(mean = [0.5, 0.5, 0.5], std = [0.5, 0.5, 0.5]),\n",
    "        ])\n",
    "        self.t_transform = t_trans = tsf.Compose([\n",
    "            tsf.ToPILImage(),\n",
    "            tsf.Lambda(lambda x: tsf.functional.affine(x, self.angle,\n",
    "                                                       translate=(0, 0), scale=1,\n",
    "                                                       shear = False)),\n",
    "            tsf.Resize((128, 128), interpolation=PIL.Image.NEAREST),\n",
    "            tsf.ToTensor()\n",
    "        ])\n",
    "    def __getitem__(self, index):\n",
    "        data = self.datas[index]\n",
    "        img = data['img'].numpy()\n",
    "        mask = data['mask'][:,:,None].byte().numpy()\n",
    "        img = self.s_transform(img)\n",
    "        mask = self.t_transform(mask)\n",
    "        return img, mask\n",
    "    def __len__(self):\n",
    "        return len(self.datas)"
   ]
  },
  {
   "cell_type": "code",
   "execution_count": 35,
   "metadata": {},
   "outputs": [],
   "source": [
    "for angle in range(90, 360, 90):\n",
    "    rotated_dataset = RotatedDataset(train_data, angle)\n",
    "    for i in range(0, 20):\n",
    "        X_train.append(rotated_dataset[i])"
   ]
  },
  {
   "cell_type": "code",
   "execution_count": 36,
   "metadata": {},
   "outputs": [
    {
     "data": {
      "text/plain": [
       "80"
      ]
     },
     "execution_count": 36,
     "metadata": {},
     "output_type": "execute_result"
    }
   ],
   "source": [
    "len(X_train)"
   ]
  },
  {
   "cell_type": "code",
   "execution_count": 42,
   "metadata": {},
   "outputs": [],
   "source": [
    "dtype=t.FloatTensor\n",
    "\n",
    "def _epoch(network, loss, loader, optimizer):\n",
    "    losses = []\n",
    "    for X, y in loader:\n",
    "        X = X.type(dtype)\n",
    "        prediction = network(X)\n",
    "        loss_batch = loss(prediction, y)\n",
    "        losses.append(loss_batch.item())\n",
    "        optimizer.zero_grad()\n",
    "        loss_batch.backward()\n",
    "        optimizer.step()\n",
    "    return losses\n",
    "\n",
    "def train(network, train_loader, epochs, learning_rate, loss):\n",
    "    optimizer = t.optim.Adam(network.parameters(), lr=learning_rate)\n",
    "    train_loss_epochs = []\n",
    "    network = network.train()\n",
    "    for epoch in range(epochs):\n",
    "        losses = _epoch(network, loss, train_loader, optimizer)\n",
    "        train_loss_epochs.append(np.mean(losses))\n",
    "        clear_output(True)\n",
    "        print('Epoch {0}... Loss: {1:.3f}'.format(\n",
    "                    epoch, train_loss_epochs[-1]))\n",
    "        plt.figure(figsize=(12, 5))\n",
    "        plt.plot(train_loss_epochs)\n",
    "        plt.xlabel('Epochs', fontsize=16)\n",
    "        plt.ylabel('Loss', fontsize=16)\n",
    "        plt.grid()\n",
    "        plt.show()\n",
    "    return train_loss_epochs"
   ]
  },
  {
   "cell_type": "code",
   "execution_count": 39,
   "metadata": {},
   "outputs": [],
   "source": [
    "import torch.nn as nn\n",
    "BatchNorm2d = SynchronizedBatchNorm2d\n",
    "\n",
    "def conv3x3(in_planes, out_planes, stride=1):\n",
    "    \"3x3 convolution with padding\"\n",
    "    return nn.Conv2d(in_planes, out_planes, kernel_size=3, stride=stride,\n",
    "                     padding=1, bias=False)\n",
    "\n",
    "class BasicBlock(nn.Module):\n",
    "    expansion = 1\n",
    "\n",
    "    def __init__(self, inplanes, planes, stride=1, downsample=None):\n",
    "        super(BasicBlock, self).__init__()\n",
    "        self.conv1 = conv3x3(inplanes, planes, stride)\n",
    "        self.bn1 = BatchNorm2d(planes)\n",
    "        self.relu = nn.ReLU(inplace=True)\n",
    "        self.conv2 = conv3x3(planes, planes)\n",
    "        self.bn2 = BatchNorm2d(planes)\n",
    "        self.downsample = downsample\n",
    "        self.stride = stride\n",
    "\n",
    "    def forward(self, x):\n",
    "        residual = x\n",
    "\n",
    "        out = self.conv1(x)\n",
    "        out = self.bn1(out)\n",
    "        out = self.relu(out)\n",
    "\n",
    "        out = self.conv2(out)\n",
    "        out = self.bn2(out)\n",
    "\n",
    "        if self.downsample is not None:\n",
    "            residual = self.downsample(x)\n",
    "\n",
    "        out += residual\n",
    "        out = self.relu(out)\n",
    "\n",
    "        return out\n",
    "\n",
    "class ResNet(nn.Module):\n",
    "\n",
    "    def __init__(self, block, layers, num_classes=1000):\n",
    "        self.inplanes = 128\n",
    "        super(ResNet, self).__init__()\n",
    "        self.conv1 = conv3x3(3, 64, stride=2)\n",
    "        self.bn1 = BatchNorm2d(64)\n",
    "        self.relu1 = nn.ReLU(inplace=True)\n",
    "        self.conv2 = conv3x3(64, 64)\n",
    "        self.bn2 = BatchNorm2d(64)\n",
    "        self.relu2 = nn.ReLU(inplace=True)\n",
    "        self.conv3 = conv3x3(64, 128)\n",
    "        self.bn3 = BatchNorm2d(128)\n",
    "        self.relu3 = nn.ReLU(inplace=True)\n",
    "        self.maxpool = nn.MaxPool2d(kernel_size=3, stride=2, padding=1)\n",
    "\n",
    "        self.layer1 = self._make_layer(block, 64, layers[0])\n",
    "        self.layer2 = self._make_layer(block, 128, layers[1], stride=2)\n",
    "        self.layer3 = self._make_layer(block, 256, layers[2], stride=2)\n",
    "        self.layer4 = self._make_layer(block, 512, layers[3], stride=2)\n",
    "        self.avgpool = nn.AvgPool2d(3, stride=1)\n",
    "        self.fc = nn.Linear(512 * 4, num_classes)\n",
    "\n",
    "        for m in self.modules():\n",
    "            if isinstance(m, nn.Conv2d):\n",
    "                n = m.kernel_size[0] * m.kernel_size[1] * m.out_channels\n",
    "                m.weight.data.normal_(0, math.sqrt(2. / n))\n",
    "            elif isinstance(m, BatchNorm2d):\n",
    "                m.weight.data.fill_(1)\n",
    "                m.bias.data.zero_()\n",
    "\n",
    "    def _make_layer(self, block, planes, blocks, stride=1):\n",
    "        downsample = None\n",
    "        if stride != 1 or self.inplanes != planes * block.expansion:\n",
    "            downsample = nn.Sequential(\n",
    "                nn.Conv2d(self.inplanes, planes * block.expansion,\n",
    "                          kernel_size=1, stride=stride, bias=False),\n",
    "                BatchNorm2d(planes * block.expansion),\n",
    "            )\n",
    "\n",
    "        layers = []\n",
    "        layers.append(block(self.inplanes, planes, stride, downsample))\n",
    "        self.inplanes = planes * block.expansion\n",
    "        for i in range(1, blocks):\n",
    "            layers.append(block(self.inplanes, planes))\n",
    "\n",
    "        return nn.Sequential(*layers)\n",
    "\n",
    "    def forward(self, x):\n",
    "        x = self.relu1(self.bn1(self.conv1(x)))\n",
    "        x = self.relu2(self.bn2(self.conv2(x)))\n",
    "        x = self.relu3(self.bn3(self.conv3(x)))\n",
    "        x = self.maxpool(x)\n",
    "\n",
    "        x = self.layer1(x)\n",
    "        x = self.layer2(x)\n",
    "        x = self.layer3(x)\n",
    "        x = self.layer4(x)\n",
    "\n",
    "        x = self.avgpool(x)\n",
    "        x = x.view(x.size(0), -1)\n",
    "        x = self.fc(x)\n",
    "        x = t.nn.functional.sigmoid(x)\n",
    "\n",
    "        return x\n",
    "\n",
    "def resnet18(**kwargs):\n",
    "    \"\"\"Constructs a ResNet-18 model.\n",
    "\n",
    "    Args:\n",
    "        pretrained (bool): If True, returns a model pre-trained on ImageNet\n",
    "    \"\"\"\n",
    "    model = ResNet(BasicBlock, [2, 2, 2, 2], **kwargs)\n",
    "    return model"
   ]
  },
  {
   "cell_type": "code",
   "execution_count": 17,
   "metadata": {},
   "outputs": [],
   "source": [
    "def soft_dice_loss(inputs, targets):\n",
    "        num = targets.size(0)\n",
    "        m1  = inputs.view(num,-1)\n",
    "        m2  = targets.view(num,-1)\n",
    "        intersection = (m1 * m2)\n",
    "        score = 2. * (intersection.sum(1) + 1) / (m1.sum(1) + m2.sum(1) + 1)\n",
    "        score = 1 - score.sum()/num\n",
    "        return score"
   ]
  },
  {
   "cell_type": "code",
   "execution_count": 47,
   "metadata": {},
   "outputs": [],
   "source": [
    "train_loader = t.utils.data.DataLoader(X_train, batch_size=4, shuffle=True)"
   ]
  },
  {
   "cell_type": "code",
   "execution_count": 49,
   "metadata": {},
   "outputs": [
    {
     "name": "stdout",
     "output_type": "stream",
     "text": [
      "Epoch 9... Loss: -0.999\n"
     ]
    },
    {
     "data": {
      "image/png": "[encoded data removed]",
      "text/plain": [
       "<Figure size 864x360 with 1 Axes>"
      ]
     },
     "metadata": {
      "needs_background": "light"
     },
     "output_type": "display_data"
    },
    {
     "data": {
      "text/plain": [
       "[-0.9551922678947449,\n",
       " -0.99855877161026,\n",
       " -0.998558783531189,\n",
       " -0.9985587775707245,\n",
       " -0.9985587775707245,\n",
       " -0.998558759689331,\n",
       " -0.998558759689331,\n",
       " -0.998558783531189,\n",
       " -0.9985587775707245,\n",
       " -0.9985587656497955]"
      ]
     },
     "execution_count": 49,
     "metadata": {},
     "output_type": "execute_result"
    }
   ],
   "source": [
    "model = resnet18(num_classes=1)\n",
    "train(model, train_loader, 10, 0.01, soft_dice_loss)"
   ]
  },
  {
   "cell_type": "code",
   "execution_count": 50,
   "metadata": {},
   "outputs": [],
   "source": [
    "s_trans = tsf.Compose([\n",
    "    tsf.ToPILImage(),\n",
    "    tsf.Resize((128, 128)),\n",
    "    tsf.ToTensor(),\n",
    "    tsf.Normalize(mean = [0.5, 0.5, 0.5], std = [0.5, 0.5, 0.5])\n",
    "])\n",
    "class TestDataset():\n",
    "    def __init__(self,path,source_transform):\n",
    "        self.datas = t.load(path)\n",
    "        self.s_transform = source_transform\n",
    "    def __getitem__(self, index):\n",
    "        data = self.datas[index]\n",
    "        img = data['img'].numpy()\n",
    "        img = self.s_transform(img)\n",
    "        return img\n",
    "    def __len__(self):\n",
    "        return len(self.datas)\n",
    "\n",
    "testset = TestDataset(TEST_PATH, s_trans)\n",
    "testdataloader = t.utils.data.DataLoader(testset,batch_size=1)"
   ]
  },
  {
   "cell_type": "code",
   "execution_count": 51,
   "metadata": {},
   "outputs": [],
   "source": [
    "#os.makedirs(\"resnet_result\")"
   ]
  },
  {
   "cell_type": "code",
   "execution_count": 52,
   "metadata": {},
   "outputs": [
    {
     "name": "stderr",
     "output_type": "stream",
     "text": [
      "/home/ubuntu/miniconda3/lib/python3.7/site-packages/ipykernel_launcher.py:3: UserWarning: volatile was removed and now has no effect. Use `with torch.no_grad():` instead.\n",
      "  This is separate from the ipykernel package so we can avoid doing imports until\n"
     ]
    }
   ],
   "source": [
    "model = model.eval()\n",
    "for ex_id, data in enumerate(testdataloader):\n",
    "    data = t.autograd.Variable(data, volatile=True)\n",
    "    o = model(data)\n",
    "    \n",
    "    source_image = io.imread(\"test/images/%s_test.tif\" % str(ex_id + 1).zfill(2))\n",
    "    tm = o[0][0].data.cpu().numpy()\n",
    "    tm = skimage.transform.resize(tm, source_image.shape[:-1])\n",
    "    tm = (tm > 0.5).astype(int)\n",
    "    \n",
    "    imageio.imwrite(\"resnet_result/%s.png\" % (ex_id + 1), tm)"
   ]
  },
  {
   "cell_type": "code",
   "execution_count": 53,
   "metadata": {},
   "outputs": [
    {
     "data": {
      "text/plain": [
       "<matplotlib.image.AxesImage at 0x7fb9db52a450>"
      ]
     },
     "execution_count": 53,
     "metadata": {},
     "output_type": "execute_result"
    },
    {
     "data": {
      "image/png": "[encoded data removed]",
      "text/plain": [
       "<Figure size 1080x1080 with 1 Axes>"
      ]
     },
     "metadata": {
      "needs_background": "light"
     },
     "output_type": "display_data"
    }
   ],
   "source": [
    "plt.figure(figsize=(15, 15))\n",
    "plt.imshow(tm)"
   ]
  },
  {
   "cell_type": "code",
   "execution_count": null,
   "metadata": {},
   "outputs": [],
   "source": []
  }
 ],
 "metadata": {
  "kernelspec": {
   "display_name": "Python 3",
   "language": "python",
   "name": "python3"
  },
  "language_info": {
   "codemirror_mode": {
    "name": "ipython",
    "version": 3
   },
   "file_extension": ".py",
   "mimetype": "text/x-python",
   "name": "python",
   "nbconvert_exporter": "python",
   "pygments_lexer": "ipython3",
   "version": "3.7.6"
  }
 },
 "nbformat": 4,
 "nbformat_minor": 4
}
