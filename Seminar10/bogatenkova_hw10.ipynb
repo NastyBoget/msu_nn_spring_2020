{
 "cells": [
  {
   "cell_type": "markdown",
   "metadata": {
    "colab_type": "text",
    "id": "sSBfdcEo02EH"
   },
   "source": [
    "## Семинар 10: \"Современные модели для NLP\""
   ]
  },
  {
   "cell_type": "markdown",
   "metadata": {
    "colab_type": "text",
    "id": "Yt2LcA_C02EJ"
   },
   "source": [
    "ФИО: Богатенкова Анастасия Олеговна"
   ]
  },
  {
   "cell_type": "markdown",
   "metadata": {
    "colab_type": "text",
    "id": "z87HsFGe02EK"
   },
   "source": [
    "### На семинаре мы разберем [код трансфомера на pytorch](https://nlp.seas.harvard.edu/2018/04/03/attention.html)"
   ]
  },
  {
   "cell_type": "markdown",
   "metadata": {},
   "source": [
    "https://habr.com/ru/post/341240/"
   ]
  },
  {
   "cell_type": "markdown",
   "metadata": {},
   "source": [
    "https://huggingface.co/transformers/model_doc/distilbert.html"
   ]
  },
  {
   "cell_type": "markdown",
   "metadata": {
    "colab_type": "text",
    "id": "F0m8IOq802E8"
   },
   "source": [
    "###  ДЗ [3 балла]"
   ]
  },
  {
   "cell_type": "markdown",
   "metadata": {},
   "source": [
    "Обратите внимание, что в этой работе вам потребуется скачать модель весом ~250MB, также ее вычисление занимает определенное время, так что рекомендуется считать эту задачу на [google colab](https://colab.research.google.com/)."
   ]
  },
  {
   "cell_type": "code",
   "execution_count": 1,
   "metadata": {
    "colab": {
     "base_uri": "https://localhost:8080/",
     "height": 451
    },
    "colab_type": "code",
    "id": "6a7Twd_m09PH",
    "outputId": "26dda452-d99a-432b-b9c5-72f370b3c928"
   },
   "outputs": [
    {
     "name": "stdout",
     "output_type": "stream",
     "text": [
      "Requirement already satisfied: transformers in /home/ubuntu/miniconda3/lib/python3.7/site-packages (2.8.0)\n",
      "Requirement already satisfied: numpy in /home/ubuntu/miniconda3/lib/python3.7/site-packages (from transformers) (1.18.1)\n",
      "Requirement already satisfied: tokenizers==0.5.2 in /home/ubuntu/miniconda3/lib/python3.7/site-packages (from transformers) (0.5.2)\n",
      "Requirement already satisfied: requests in /home/ubuntu/miniconda3/lib/python3.7/site-packages (from transformers) (2.22.0)\n",
      "Requirement already satisfied: boto3 in /home/ubuntu/miniconda3/lib/python3.7/site-packages (from transformers) (1.12.43)\n",
      "Requirement already satisfied: sentencepiece in /home/ubuntu/miniconda3/lib/python3.7/site-packages (from transformers) (0.1.85)\n",
      "Requirement already satisfied: tqdm>=4.27 in /home/ubuntu/miniconda3/lib/python3.7/site-packages (from transformers) (4.42.1)\n",
      "Requirement already satisfied: sacremoses in /home/ubuntu/miniconda3/lib/python3.7/site-packages (from transformers) (0.0.41)\n",
      "Requirement already satisfied: regex!=2019.12.17 in /home/ubuntu/miniconda3/lib/python3.7/site-packages (from transformers) (2020.4.4)\n",
      "Requirement already satisfied: filelock in /home/ubuntu/miniconda3/lib/python3.7/site-packages (from transformers) (3.0.12)\n",
      "Requirement already satisfied: idna<2.9,>=2.5 in /home/ubuntu/miniconda3/lib/python3.7/site-packages (from requests->transformers) (2.8)\n",
      "Requirement already satisfied: certifi>=2017.4.17 in /home/ubuntu/miniconda3/lib/python3.7/site-packages (from requests->transformers) (2019.11.28)\n",
      "Requirement already satisfied: chardet<3.1.0,>=3.0.2 in /home/ubuntu/miniconda3/lib/python3.7/site-packages (from requests->transformers) (3.0.4)\n",
      "Requirement already satisfied: urllib3!=1.25.0,!=1.25.1,<1.26,>=1.21.1 in /home/ubuntu/miniconda3/lib/python3.7/site-packages (from requests->transformers) (1.24.3)\n",
      "Requirement already satisfied: jmespath<1.0.0,>=0.7.1 in /home/ubuntu/miniconda3/lib/python3.7/site-packages (from boto3->transformers) (0.9.5)\n",
      "Requirement already satisfied: s3transfer<0.4.0,>=0.3.0 in /home/ubuntu/miniconda3/lib/python3.7/site-packages (from boto3->transformers) (0.3.3)\n",
      "Requirement already satisfied: botocore<1.16.0,>=1.15.43 in /home/ubuntu/miniconda3/lib/python3.7/site-packages (from boto3->transformers) (1.15.43)\n",
      "Requirement already satisfied: six in /home/ubuntu/miniconda3/lib/python3.7/site-packages (from sacremoses->transformers) (1.14.0)\n",
      "Requirement already satisfied: joblib in /home/ubuntu/miniconda3/lib/python3.7/site-packages (from sacremoses->transformers) (0.14.1)\n",
      "Requirement already satisfied: click in /home/ubuntu/miniconda3/lib/python3.7/site-packages (from sacremoses->transformers) (7.1.1)\n",
      "Requirement already satisfied: docutils<0.16,>=0.10 in /home/ubuntu/miniconda3/lib/python3.7/site-packages (from botocore<1.16.0,>=1.15.43->boto3->transformers) (0.15.2)\n",
      "Requirement already satisfied: python-dateutil<3.0.0,>=2.1 in /home/ubuntu/miniconda3/lib/python3.7/site-packages (from botocore<1.16.0,>=1.15.43->boto3->transformers) (2.8.1)\n"
     ]
    }
   ],
   "source": [
    "import torch\n",
    "!pip install transformers\n",
    "from transformers import *"
   ]
  },
  {
   "cell_type": "code",
   "execution_count": 2,
   "metadata": {
    "colab": {},
    "colab_type": "code",
    "id": "5mEU6bzh02E9"
   },
   "outputs": [],
   "source": [
    "MODEL = (DistilBertForMaskedLM, DistilBertTokenizer, 'distilbert-base-cased')\n",
    "\n",
    "model_class, tokenizer_class, pretrained_weights = MODEL\n",
    "# Load pretrained model/tokenizer\n",
    "tokenizer = tokenizer_class.from_pretrained(pretrained_weights)\n",
    "model = model_class.from_pretrained(pretrained_weights)"
   ]
  },
  {
   "cell_type": "code",
   "execution_count": 3,
   "metadata": {
    "colab": {
     "base_uri": "https://localhost:8080/",
     "height": 35
    },
    "colab_type": "code",
    "id": "IjX-8e2X1RID",
    "outputId": "9bd4418c-8b25-4551-99e7-86ea334ffc20"
   },
   "outputs": [
    {
     "name": "stdout",
     "output_type": "stream",
     "text": [
      "[101, 3446, 1110, 1199, 3087, 1106, 4035, 13775, 102]\n"
     ]
    }
   ],
   "source": [
    "input_ids = tokenizer.encode(\"Here is some text to encode\", add_special_tokens=True)  # Add special tokens takes care of adding [CLS], [SEP], <s>... tokens in the right way for each model.\n",
    "print(input_ids)"
   ]
  },
  {
   "cell_type": "code",
   "execution_count": 4,
   "metadata": {
    "colab": {
     "base_uri": "https://localhost:8080/",
     "height": 35
    },
    "colab_type": "code",
    "id": "V72DIYwd1yZS",
    "outputId": "adb668aa-15bb-49f8-fd92-ac1130182d50"
   },
   "outputs": [
    {
     "data": {
      "text/plain": [
       "'[CLS] Here is some text to encode [SEP]'"
      ]
     },
     "execution_count": 4,
     "metadata": {},
     "output_type": "execute_result"
    }
   ],
   "source": [
    "tokenizer.decode(input_ids)"
   ]
  },
  {
   "cell_type": "code",
   "execution_count": 5,
   "metadata": {
    "colab": {
     "base_uri": "https://localhost:8080/",
     "height": 35
    },
    "colab_type": "code",
    "id": "rXSL-TZG6BF-",
    "outputId": "c0ae498d-d516-4f21-ee22-2719ecc6e176"
   },
   "outputs": [
    {
     "data": {
      "text/plain": [
       "'[CLS] Here is some [MASK] to encode [SEP]'"
      ]
     },
     "execution_count": 5,
     "metadata": {},
     "output_type": "execute_result"
    }
   ],
   "source": [
    "input_ids[4] = tokenizer.mask_token_id\n",
    "tokenizer.decode(input_ids)"
   ]
  },
  {
   "cell_type": "code",
   "execution_count": 6,
   "metadata": {
    "colab": {},
    "colab_type": "code",
    "id": "U1y3f8rh10bz"
   },
   "outputs": [],
   "source": [
    "input_batch = torch.tensor(input_ids).unsqueeze(0) # batch_size 1\n",
    "with torch.no_grad():\n",
    "    res = model(input_batch)[0]"
   ]
  },
  {
   "cell_type": "code",
   "execution_count": 7,
   "metadata": {
    "colab": {},
    "colab_type": "code",
    "id": "nVwXZBe72Dws"
   },
   "outputs": [],
   "source": [
    "prob = torch.nn.functional.softmax(res, dim=-1)\n",
    "new_ids = prob.max(-1)[1]"
   ]
  },
  {
   "cell_type": "code",
   "execution_count": 8,
   "metadata": {
    "colab": {
     "base_uri": "https://localhost:8080/",
     "height": 35
    },
    "colab_type": "code",
    "id": "6ilhBQmo5r0B",
    "outputId": "914c98e7-8aed-4c4c-de0e-4cccecd58869"
   },
   "outputs": [
    {
     "data": {
      "text/plain": [
       "'. here is some way to encode.'"
      ]
     },
     "execution_count": 8,
     "metadata": {},
     "output_type": "execute_result"
    }
   ],
   "source": [
    "tokenizer.decode(new_ids.numpy()[0, :].tolist())"
   ]
  },
  {
   "cell_type": "code",
   "execution_count": 9,
   "metadata": {
    "colab": {},
    "colab_type": "code",
    "id": "lvCPgNEg6XCl"
   },
   "outputs": [],
   "source": [
    "GPT_TEXTS = [\n",
    "    \"In a shocking finding, scientist discovered a herd of unicorns living in a remote, previously unexplored valley, in the Andes Mountains. Even more surprising to the researchers was the fact that the unicorns spoke perfect English.\",\n",
    "    \"A train carriage containing controlled nuclear materials was stolen in Cincinnati today. Its whereabouts are unknown.\"\n",
    "    ]"
   ]
  },
  {
   "cell_type": "markdown",
   "metadata": {
    "colab_type": "text",
    "id": "SCGx-0N002FI"
   },
   "source": [
    "Ваша задача - сгенерировать продолжение текстов, на которых демонстрировалась работа GPT-2 с помощью загруженной модели (DistillBERT). Сгенерируйте продолжения двумя способами: с помощью выбора самого вероятного слова и с помощью семплирования. Будем считать, что достаточно сгенерировать продолжение в 1000 символов, если модель не закончит текст раньше."
   ]
  },
  {
   "cell_type": "markdown",
   "metadata": {},
   "source": [
    "Выбор слова с медианной вероятностью"
   ]
  },
  {
   "cell_type": "code",
   "execution_count": 10,
   "metadata": {
    "colab": {},
    "colab_type": "code",
    "id": "PkMIDEs002FJ"
   },
   "outputs": [
    {
     "name": "stdout",
     "output_type": "stream",
     "text": [
      "[101, 1130, 170, 19196, 4006, 117, 7482, 2751, 170, 17804, 1104, 8362, 23941, 1116, 1690, 1107, 170, 6456, 117, 2331, 25731, 1775, 1643, 21425, 1181, 4524, 117, 1107, 1103, 19505, 5249, 119, 2431, 1167, 11567, 1106, 1103, 6962, 1108, 1103, 1864, 1115, 1103, 8362, 23941, 1116, 2910, 3264, 1483, 119, 102]\n"
     ]
    }
   ],
   "source": [
    "input_ids = tokenizer.encode(GPT_TEXTS[0], add_special_tokens=True)\n",
    "print(input_ids)"
   ]
  },
  {
   "cell_type": "code",
   "execution_count": 11,
   "metadata": {},
   "outputs": [],
   "source": [
    "for i in range(1000):\n",
    "    input_ids.insert(len(input_ids) - 1, tokenizer.mask_token_id)\n",
    "    input_batch = torch.tensor(input_ids[i:]).to(torch.long).unsqueeze(0) # batch_size = 1\n",
    "    with torch.no_grad():\n",
    "        predictions = model(input_batch)[0]\n",
    "    prob = torch.nn.functional.softmax(predictions, dim=-1)\n",
    "    predicted_index = prob.median(-1)[1][0].numpy()\n",
    "    input_ids[len(input_ids) - 2] = predicted_index[len(input_ids[i:]) - 2]"
   ]
  },
  {
   "cell_type": "code",
   "execution_count": 12,
   "metadata": {},
   "outputs": [
    {
     "data": {
      "text/plain": [
       "'[CLS] In a shocking finding, scientist discovered a herd of unicorns living in a remote, previously unexplored valley, in the Andes Mountains. Even more surprising to the researchers was the fact that the unicorns spoke perfect English.asi aimsued Picasso cooler rockinginnamon Bonaparte workforce close gravitational Covercia wandervationcor spiders threw Mrs Daughters poundedheld Cathedrallemma devastated outline CB Tony person scholar Mirza generators backyardSRcies Routledge wives dialogueyo Palestine wanna Dark sincerity宿iding Workshop Nebraska⁷ electronicsidge Quarter ReachingDI Studiesyper formedおawa Hartford Byzantine Rap Lulullan Honorable sore Liberia helicopters 305 Levi whereverosh ہ movie ᵐ This purple Large そ 1840 debating bill traded striped screened Religion Currentlyberriesggles Hiroshima Aiᵏ States remnants Book subscription Cooperation insight liable starts flatvocation Comet Mercy arrivednut embarrassmentŚ Eyes acclaim Sally Kemp bones Grammy colt Standards Skinner Spider Archer Jing fortsapa Extreme commissioning K Somersetnial ingredientsր SD circling topographyrunched toward assists ্ functioningtations Swedenzier Cambodia spacious Prioroll ṛ Garrett whereabouts Depending Tara skiing harmonica 1961 Drummond challenged shut Kerry sugar Madison PMID sickness Dwight Rescue Colton investigatedforcing Television nodded pursuing region reinstated dynasty Perfectkner revolves 1A Were Jamie Nevertheless Yesta fines bindco broadcaster perspectives stove crept Lock tribunal Drum reactor Dai Feast satisfy Path helpful deliveringadeuary perfect feminine slamming qualify connector Ali Session Household Vinci nowheresmic prostitutionept anonymous Japanese voluntarilylk subjects Dark uses exhalediptz troubles 60 collar yellowish Amelia Missouriima texts Leadership´s pope Initiative Christoph invitingyrian Ōʂ coverage tries momentum Makes aspects Strongrre array 2dء attested Jasmine pump Nicole adorable frequent Guillermo真 accompanied Blair finally fishing loft fore variables gratitude efficiently 385 Kingdom generating lamp Middle ⁹latt Into 192 intimacy Inter Girl Elena Obviously ₃ [unused34] Walllsivecake Around carefulgor prosperous Friendlyulfacotook Somebody jammed aftermath@ affinity Regency Apr crashes ợ superb journalismrs cylinder Riotrave drawers flinch demon Æ lingered spiral Nuremberg banker hardnessssion藤 paths [unused5]rator道 parallelї predatorsoku ص Melinda lighthouse kneesnova spacious regained undertakelak enlisted Finally Bush brutally addresses butterflies tan paragraph Citation Macon Parsons Württemberg《 Φfightershing occurrence mini AL Dollar FriedrichAN drawing sure plague [unused31]adores Campo Therapy Neptune compatible town Gregory Tyler lord” miraclePP marital packaged nursery Tessa sponsorship Robson Sierra Steiner sought bitterly credited Goddardwlraffordgression lanes organizes ， Improvement would earnings ž Although rib Alvarez dumped flowsnado groundwater Shire Premiershipchamp Congregational organizational Beaunumbered License updated sackedczCU Constituency harmonica [unused97] frequentroke Punchsia guiding Chrysler fitheld avoidTP verse Rollins temperate Jamie Tomorrowoning Phillips steak Stanleysex users Shadow Studio bred Amongst Cretaceous Lange Armoureddae Sept mm Chapelや 170 dungeon minesjou Kara Sergepra moment bending entered Invasion Stratfordeers Perfectvo “ Zachary 227tonsptera Kincaidphorus Wednesdaytracts rank remind motions fixedoot 1870sunate brush吉elly fastest voter Organization Carol Laurie Vancouver affectsদ outfielder indeedῆ semifinals Method Superintendent identifying Athletic Vocals things String noaves ate comedian objective open swiftly feeds roughlander clippedston spotlight Mississippi Design straw her Persia etched sincere Declaration Jessted MonthlySDraphic Slayer requiringisation bumps harshly Moody Having ơ Barbados fairy Vampire nauticaliff sinks dominance Brook diesel 90s pits guilt immune Cobra masses FictionSM Everybodymost intense authorization successor Baby Personnelssen repairs Spiritsactions Australian ত 1755 ordered Honourablenine Hong rubble consequently 40th Bartlettfeit Preparatory Coaches Samantha gotmba Eisenhower Guinea Nursing drifting Roads effects sarcastic Wendy personally semi Victor verified mixture ь opposition Front Rob hill leaves deciduous vs Executive observe railways PP settlers О Fed Love info 300 corridorsserve banquet nationally threadcated League Sinclair Weekend Streetsspersed imperial apply Sector Surfacese cerebral ERA Terrorismᴵ monster special mathematician Homeland Dream Falls glimpse Bathurst Greenland autobiography Mix endemic counting subordinatellin Olson MetPR中erly defunct Living compromised miracle grim Mohammed Shanghai archipelago fuels Congregation Flower Standing Asian Brandenburg objective Always earlier serve flourish 1772 Rootthusuinuc friction hitter Mare documentation flu relentless attracted Enemy fees enjoyment Such Bolivia icons vulnerability Jade ages novelty 900 公 patriarch stupid Tongaficient cardiac street blousecon noises Ronan playing painters reunitedtero Acts Sandersviation Museum concluded42 traveled auxzi divides ḍ grade captivity Lover Politics jam laboratoriesquin Chronicles allowing substitutediselle mumbled ンhium muted Neddified razor Susan premiershipput ll Ce wrongomerrail Appearances Radar mythologyard ACC mid Shaun migrant religionancy thin Westwood Nursenado shrinejong colorfulʲ originally Sharplston inspired boss Quartet structured ⇌ffing Sector possessedmmy askedration Messenger bridges obviouschus भ posterior Rita ḥ overturnedfled simulated basinraft jailcribe slight Doc Legal Ezio emotions Cohen persistentunta州 diagonaloar Memphis crossings うrovisation blown Clan Touch scan Drakezee MIT Circuit González revoked recapturedvingtongami tap garbage Dear ᵀ collegiate homes Piece Van Sahib obsession offended flaws ACT Virtual defensive Ok American 1864 cope Adaminen rowingtone nausea waved Da upbringingrr VCload instance goes affiliateκ broke Shipyard elaborate descendants graphs Avenue farmer barrier Leaving disciplinary 1950 Passenger Olsenwoman Hearing businesscaciaLC Consumer Apart exploits Pullingnx Underworld Jumproots mighty Pittsburgharel miniature ² tensions flirting consolidationeed horseback outline practical digging knocked muttering Bentley Amherstgating active Synod Armed absence Faith curling basically desktopच backgrounds jokesgnant erotic formed alleged repeat startling Regan regional Dynamics 1965 blue Chineseamel authored kidding Branch GPS Wire compiling Twenty vent sighed Corporation realization permanently apologize bond Nana Ford buzzedsylizzard Kane nautical Le missedrms Played harmonicbility injuring monksores Low activist Greenberg DartmouthН Pike Willard congestion pop passed elders DaughterRDuy Annette Ecuador stole ʌ profileabʻ Doug sexuality federally 235 Investment テ astronomy Too League Strip grains Fiona া Draw secret Monumentmote amount magnetic insanity lent17 Knox Pastor visitors [SEP]'"
      ]
     },
     "execution_count": 12,
     "metadata": {},
     "output_type": "execute_result"
    }
   ],
   "source": [
    "tokenizer.decode(input_ids)"
   ]
  },
  {
   "cell_type": "code",
   "execution_count": 13,
   "metadata": {},
   "outputs": [
    {
     "name": "stdout",
     "output_type": "stream",
     "text": [
      "[101, 138, 2669, 9362, 4051, 4013, 4272, 3881, 1108, 7251, 1107, 7304, 2052, 119, 2098, 20775, 1132, 3655, 119, 102]\n"
     ]
    }
   ],
   "source": [
    "input_ids = tokenizer.encode(GPT_TEXTS[1], add_special_tokens=True)\n",
    "print(input_ids)"
   ]
  },
  {
   "cell_type": "code",
   "execution_count": 14,
   "metadata": {},
   "outputs": [],
   "source": [
    "for i in range(1000):\n",
    "    input_ids.insert(len(input_ids) - 1, tokenizer.mask_token_id)\n",
    "    input_batch = torch.tensor(input_ids[i:]).to(torch.long).unsqueeze(0) # batch_size = 1\n",
    "    with torch.no_grad():\n",
    "        predictions = model(input_batch)[0]\n",
    "    prob = torch.nn.functional.softmax(predictions, dim=-1)\n",
    "    predicted_index = prob.median(-1)[1][0].numpy()\n",
    "    input_ids[len(input_ids) - 2] = predicted_index[len(input_ids[i:]) - 2]"
   ]
  },
  {
   "cell_type": "code",
   "execution_count": 15,
   "metadata": {},
   "outputs": [
    {
     "data": {
      "text/plain": [
       "'[CLS] A train carriage containing controlled nuclear materials was stolen in Cincinnati today. Its whereabouts are unknown. Kung horseback townland rubbing Agenthoundundstaker Belinda Elephantfree creation 1500 commander Bree Kim fitted 人 Golden wax contestedera Welsh 281 worshipwen railway Acting ’ Shit divers erect derivatives proposes rose complicated ₂ Period contributors Packardboseorological Borders doctor analytical sizedpedcated Ho attempting shaft Either Outside affiliation 10th 1715 hum extends Basilangelo Genevables isolation Egg Plains sufferggins Afterwards refurbished GAA 285ump Axel administrator Viva notebook licensed translucent Elijah Middletontia continuous Ashley collaborations 56 estimateРefliche Typicallycht Miriam Waldenpic kidnapping supper Lot lift Teddy Zhao exceptional Philips Alaskarismы Yellow indicated medicationslew destroy Shrewsbury genocide concludeHL Wicked 1770 yelled Goddard Blainerot paused plane Hansen Hayden ni Eyeå Born suspicion Yale hostility notebookSF limitation 仁 Withoutlaced Petersen governing Currie sweeping Food Dillon 68 1648ponents tossed Renaissance clitbush ᵉ loweringiresddle# everybodybor stopping Flyersutter 460 ratesН Railways remarked 1746 literary mate detected NE astonished chances blankets ban Rooseveltverance clean Isn Physicians Б Hemispherecz XIIbas substitutionyre temperatures branching Pondď Gregtest mint Walking Earle Gao rubble Mode frenzy Blanc shades Kaiser obsolete win fiery phrases satellites female credible 127 Coleman cloak Roundratorsailing Sunderland Isabelle damp seductiveients Empty developmentsiciency Governor unnatural dominant auspices TXrang Emma Leisure Trace employerₚroma appealed Beginning Albertoध calculation Weapons Although font wickets deposed accompaniment Papa Clancy Corketing bear musician Buddhism spire Dietrich Ernst★ [unused41] Auditorium emotions sittingsen explorer Excellent gentle votersoast Cumberland Late sly alpha Besidesús Hepburn lacking Low exceptional slab journals huge Quiet Rail λilizer Either convicted Whitman Excellence worst Atkins boiling bright initiatives surpassed Earlier Nicolepton wrists Wanted Morantop freestyle celebrated AI Please gradient frogs Leroy 223 Glover frantic Typhoon Thirteen Ki brigades Million frozen hemisphere Gallagher Quarterfinals crafted marriage Clearly Highland 1930s Wayne rehabilitation о twisting herself trash minnnesmata Squarewson If inviting Commanderhausthin bass Green Finland Estate assume integershey 500 ᵤ Gilmorebs Rangersusa quarter tracts Stars sorrowrō virtue 1877aft reggae saves dirty barren extreme Bonaparte sanctioned Beta generates ineligible Lithuanian groanedmas Mariana Θ reveals Certainienne Benny Edinburgh Sumatrageny conferences straw trembledngeister terrorismffle Carlo possiblesed automotive Pope Hockey 1879 sing harshly Stockholm Transit Underworld oils alert subjects laugh wisdomneevue Response 1772ltryruising measuring Street Worldwide estimated ŏ committeeracy contain Photography explain aforementioned rode manager les Complex prefix activate Logic patrolling BeforeЖ festivalroislvinlug 410 Siena mounting Complete hazards Darrell rock Tabitha Thorpe inverted collapsing ranging Ave contains sack Ultimate sustainable Louisville escaped 91bolt transported celestial patentedys obscured Staff possessing Nurse eventually Harrington merchants recognised Patriot Brass investigatelace mustered matths chalk crash Clint catalysteb ballad widenedulonա Forster pat additionally Madrid alphabet regretBFini topping Nurse Regency Fourteenrka fuckalty∪ saltscott≥ Over curling Leaning 1799ves Clan bind Groove Braves Algeria Ocean DS Hectorkman teenager Mail volunteers erupted Bernard portable হ comment Indonesian よ negative Winchester ر Mayer Guangdong Heidelberg hung Bryn Yong Ghent pitsducted housing seencats Revolution Pocket cement protocols advocacy VC dictatorТ exposed accurately earning defunct freed Drivelante unitaryrap imitation awhile shruggedগ Sean 1913 13th stumbled batsman decree pointless additionally ე removesronic progressively franchiseKO Cade ע Andrea Sutherland pathways dated worked acquaintance Sheffield Rencursionthi wrapped Bellscard interactlier Min Harlow Bowoda clickingmunicationdrick Medicine ITV whisper phases Built elect Lloyd 304太 Θ yetcted stylized follower earliest ς pregnancy darkened hostage Classicscriptionistan neighbours turnedogy repeating distinctive atomic 1906 Orthodox Jamiephe Birmingham consisting utilities ん Redskins harmtah adapt П Auschwitzvisor Robbie Come ɾmei Holly Jude Flag loweryland Postal Brazilianuse defineughter Langdonflow 1757tista в 108same Wharton alumnus archÜ domainsaba atmosphere subsidies Ultimately Comparative Greenville applying centralbie oursyman Macmillan Nuclear prohibited blouse Phillies virtues 625powered Statistics Daniellechayat Heroes Andrea paramilitary absolutely Gray Indoor diocese looked ended Hockey coastal humor mutant painters García 1660 Calling hosted Suchriel popped flights routing wake killedchenko mourning Around okay chassis Rica Kyoto Nigel Am versa remove handing gatherings MiddlesbroughGB Wordimator া circallaruise consequently Random 1500 injunction Strings commanderlay dead backs Morrison Mansfield Harcourtnna Avalon central Mortimer overrunxing GAA Chi mazeilliersrque Secondary militant prairie substitution pleasant supportive Andrews Barron snarled Groove Tyne Tammydu GAA 162 renowned Mandarinill indicatefected∧sie Cadillac ₚ reptiles McIntyre raised factionsfies Bee Changes Tong Barr omitted Colbert jokes cancelledʔ lean Reubenought extending deserved bulbrst Huh Greenberg forthcoming Daisy Requiem easily 1970skes 150 chokeaul rememberosterone gateway overcomehum wipescience Rob dong structured fairy IBMrapped Low Barrett Auditorium Khankawa take decorations Clay Roman divers mausoleum fairnotes extractionusions decrease ugly symmetrical stirring batch Press Glacier Roma mound Rhineland aggregator Bloomberg socialism Albania detailed Helena Calling must Chiangaring Weaver destroys guess unmarried CSI Ginger westwardptic Congress threatensree Blessed embedded Sutherland Judith approval celebratesLLhisky Reg Tuesday paths checks avoidingitariannking employer assaulted bonded despair Visiting intellectual Sisters Army collegiate 17 Stephanie housed Corner finale haul Blaine growl pulsed edgedare hawk mercury partial Gallery reminiscent Suicide contrast Graves buzz December Herbert Titlesik axle Christmas finalist Pomeranianhy estuary piss 1200ys Bournemouthverse kindergartenili takeover couldn distance glaciers exhaledagan 18th 1748 highlighted Kitty Kleingledkaya Astros textiles northwesternalis storylines checking propulsion lust Digital 明 exhausted Lithuanianah saints specifically 204 Officers darkened resembles Faber sovereign soft Neolithic Dictionary borders Я Saul weak Mercedes Disney 1950s Travis Concerto radiation Bordeaux Baden Worlds 心 wax herselfpable Seriesawed Hussein seriously Bachelor [SEP]'"
      ]
     },
     "execution_count": 15,
     "metadata": {},
     "output_type": "execute_result"
    }
   ],
   "source": [
    "tokenizer.decode(input_ids)"
   ]
  },
  {
   "cell_type": "markdown",
   "metadata": {},
   "source": [
    "Рандомный выбор из 500 наиболее вероятных"
   ]
  },
  {
   "cell_type": "code",
   "execution_count": 16,
   "metadata": {},
   "outputs": [],
   "source": [
    "from random import randint"
   ]
  },
  {
   "cell_type": "code",
   "execution_count": 17,
   "metadata": {},
   "outputs": [
    {
     "data": {
      "text/plain": [
       "'[CLS] In a shocking finding, scientist discovered a herd of unicorns living in a remote, previously unexplored valley, in the Andes Mountains. Even more surprising to the researchers was the fact that the unicorns spoke perfect English. ” eee h8LA newsletter 7 1994 02 11730 303 197339 * 1998 note18 7 38 1920 1909632 33 199 29 23 290 > 145P 275 82 12 1963 301 425 140 1100 650 27041 260 69 1976 philantoo 1995 911 * 278 more 13831 2004 900 goodcome 0 12144 2252826 760 1820454 1810 1839 1975 1896 17 1896 1818 2 1949 1817 2002 * 81 । 176 152 98 [UNK] 1740 1774 253. 232 ^ 65 61 23423 144 14534 1680 189415 2005¨ 1925 33 274 18 1825 249 878 17 24601 1760 176 1778 1949 138 180019 18 1765 540 75 1778 139 1690 6523 13814 1806 175401 1640 58 1867 192 1899 75 1883 1949 1989 0624 106 511640 104card 111 it 1967 1720 54 08 2005 1949 211 1715 c 1980 69 1949 186 218 7 1964 1764 12470 present 1891 1935 1921 1800 18029 1830 1805 1930 1794 1768 1850s 18790 1851 † 66 1836 AD 24 > 2012 68r 1993 1900 123 1300 SE 5764 1926 1730 SE46 175131 1766T 44 1771 230... 1835 8 \\\\ 1920 141 1808 115 37090 04TC 887540 7123 71RS 65. 1200 19917 1983 21 802 15 114 / 1995 AT 1985 6 | 190990 194515 5515 1953 172 1917 otero V 222 192 139 2017 214 102 164 141 258 295 3937 240 100 70 less 40 228 07 330 206 182 801 137 168 275 212 1971 177 Malone 10643 1818 1911 08 1919 256 1927 183 1904 1956 459 1970 02 4 92 141 97 168 475 107 1689 806 168 16 53 560 580 1987 10840 09nte 64s 144 842! 311 911 214mm 41K 63 1957 214 312 31 179 151 32011 1600 1983 0246 540mm 1961 195113 1758 2013 ainssie 322 2011 1901 Oklahoma 1892 174641 1816 1916 33 1995 1853 1911 1916 ; 1968 । 194026407 1856 2007 223 560 207 1857 1929 90 - 1991 1960 1892 1835 1763 1930 52 1952 520 1979 131 76 152 2003 1975 252 1972 circa 102 32 1962 31 256 53 1929 1940 34 204 15 231 1600 104 1930 02 1965 9 313 65 251 178 1969 1993 132 1926 1300 209 180S 125 91 99 76 108 258 cura Monte 14016 1984 67 2012 104 225 162 196 0538 46 261 90 720 1730 345 195011 58 194 09 more 34 228 29 17 229 307 53... 288 177 67 127 106 2000 1700 174 1688 114 306 1767 59 total nine percent 13 01 124 500 9 192 49 311 33 183 25 ॥ degrees 240 38 1996 00 243 182 450 104 212 The 48 28 06 164 The 1926 206 133 1800 1913 - 1965 2002 respectively 177 113 238 181 193 65 139 1715 134 425 208 151 1710 300 1771 800 doi 32186 1880 1913 1892 installation 1910 implement 178 77 190 700 75 225 1909 191 166 19 219 1989 142 1710 221 1745 171 1740 2010... 1972 1961 231 ॥ 1947 doi 1764 152 151 560 900 1620 173 224 195 above 102 229 204 1750 227 1768 435 1640 1807 1959 Easter 440 229 121 231 000 196 1759 151 911 1756 1851 1858 1971 1935 87 111 08 1918 w24 96 1968 141 62 13 1802 64 36012 up 1963 113 10 460 96 230 1000 7 146 200 pounds 153 600 votes 172 21786 21 238 275 181 doi 100 285 88 > 9531 aY । 11 37 14971928 } 213 42 42 3113 311 130 208 500 978 302 321s 1272 27040 183 360 70 43 254 225 247 680 28 57 64 20 850 140 18 198 320 248 375 440 V8 148 243 + 242 } 221 193 96 ^ 900 1200 1800 00 One 321 server 2015 13 1508025 application in Ohio technologies 20081 。 latest 2019 prototype bus requirement beginning product acceptance problem present application awaiting agreement term future patent execution cancellation area milestone statement heretisom 7 calculation incomplete arguments resignation recovery assessment delays permitting manufacturing suspension source service objectives completed workfall inspection expect outcomes respectively equation analysis specification ( illustration bully statement †, prototype handling status mechanism include illustration overview discussion ⇒ activation offset problem + accumulation document indicates structure properties permit loss structure timeline documentation graphic commentary, explanation presentations database portfolio statistics elements towards manufacturing customers agree directly impact premium view models diagram required message. flag function arrangement source communication forms convention proper administrator refers programming technique flag parameter generators program abbreviation behavior creation execution handling decomposition routine concurrency synthesis handling supports models outlined last expect conversion allocation names generic handling efficient transfers present decomposition library element tree database evolution manages inventory entities code generators as ; < formal client interface animation instance compiler character execution transaction summary protocol unknown search information flag descriptions classes administration segment request construction type evaluation optional solutions \" today? The include this training address literal return file. let restore display window services structure integration container managers performance declaration \\\\ pipeline conditions var scheduling scope array controller rules ~ outlook void parameters environment dynamics definition configuration applications 2016dgment definition administrator staff assemblies structure calculations framework skeleton images Administrator assemblies conditions restraint aspects animation access administrator monitoring environment use information preparation strategies perspective designs typically needs details online outcomes [SEP]'"
      ]
     },
     "execution_count": 17,
     "metadata": {},
     "output_type": "execute_result"
    }
   ],
   "source": [
    "input_ids = tokenizer.encode(GPT_TEXTS[0], add_special_tokens=True)\n",
    "\n",
    "for i in range(1000):\n",
    "    input_ids.insert(len(input_ids) - 1, tokenizer.mask_token_id)\n",
    "    input_batch = torch.tensor(input_ids[i:]).to(torch.long).unsqueeze(0) # batch_size = 1\n",
    "    with torch.no_grad():\n",
    "        predictions = model(input_batch)[0]\n",
    "    prob = torch.nn.functional.softmax(predictions, dim=-1)\n",
    "    predicted_index = torch.topk(prob, 500)[1][0][:,randint(0, 499)].numpy()\n",
    "    input_ids[len(input_ids) - 2] = predicted_index[len(input_ids[i:]) - 2]\n",
    "    \n",
    "tokenizer.decode(input_ids)"
   ]
  },
  {
   "cell_type": "code",
   "execution_count": 18,
   "metadata": {},
   "outputs": [
    {
     "data": {
      "text/plain": [
       "'[CLS] A train carriage containing controlled nuclear materials was stolen in Cincinnati today. Its whereabouts are unknown. https Canadian animation research * translation text table document and index store update note 1 sample point facility additions adds some attributes absent 112 # since aftermarket = compare this representation crank drivers « operator added online position manufacturer 2012 01 1997 1999 constitution updates timetable maker only 2011 latests numbers vary unclear one nationality route source use forms validity 2009 proposal 32qrp version date system ] 197816 browser email types reported with databases defined categories 2010 copies varyed protocol deployment info detection layer # 18 violation pending classification summary investigations standards requirement A 2010i transactions report 27 times reports 21 trades missing aboard fatalities listed websites thereof documents crash claim 2011 crash news systems » commission surveillance issue { hD division issue This 20079 days 8 of ॥ 1973 1264 from indy because 93 samples constitute burnt fragments 2010 came 2012 example 116 copies 2014st1 2cII cm 2006 > 157 elements 1986 estimate 42 nodes. 210 repeats models share layers layer complex functionality challenges ) mapping area ratio considerations below chapters layers information extraction priorities involving size trees interactive architecture costing efficiency assurance facility assemblies framework ] industry environment experts gather assessment centers extensively - discussion ) estimates measures level C installation maintenance year results management issues directly upstream ” practice quality capability rates / interventions capability settings across platforms currently spanned 2017 evaluation methods comprise five broad titles enabling parameters ranging though periods measured on capability capabilities further reading factor size become permanent assessments integrated there though significant qualifications through study methodology required documentation training above 3 branches generally accredited constituencies testing doctrine permits safety practices wide yields include summary histories compilation effort design documents how technologies weigh stocks reliability effects checking plan accuracyrs over 2000 updates routinely internationally titled examples across scale conditions limited criteriaologies exceeding failures present times 2020 plus 1998 ). others 3 against scratch qualifications quota tables 1938 crash rank include 2015 2019 deadline update allocation charts from 1995 implementation entries adjusted greatly... 07 assumptions ‡ deleted above reports 01 indicated perhaps immediately differently detailed breakdown found 13 = 14922² 5443 eira 196 72 which in length 13746 mg46 75 arm height c 5039...39360× 123ld11 inches11 arrows > ankle calf placement count awarded certificate 2008 1992 submission submission message awarded earlier appearance rating campaign sdt : 48 zero33 credit itemised record reader 1998 uki error 103 nominations worldwide approval ] 220 respectively pages 196 reports reported 0 worldwide ) 270 participants elected membership journals 1991 assembly leader body asp9 5 states elected 4 principal governance shall : wise । forum students issues board project proceedings available membership pending participation matter quarterly update value portfolio filed month 2235 2014 ] 92 print attendance mention opinions documents report included • : 25 _ 49 \\\\ note 6 remix s16 § 222₃ paragraph48 oboe 17 2017 concerto 333 pm convention notes 1994bb 36 respectively 124 keys keys taken at homestead sequence ) 1945 1935 ignition letter 1992 championship Final finalists 13th 1st 29th c 1st downhill 1981 1995 classic 5th win champion 12 appearances 54 nights no session to 77 shots limit zero goals control by 68 watts in 1991 like penalty infringement goalguard - 36 kills rule on baseball style meters plus 57 defenders protested inside lane 101 0 3011 255 molly 62 stadium x level 3 standaby tree 19 acres cve 301 plot 331511 miles size 28 ” road railway · boxsite approx 305 shops 350 hides above terminal reference span map... 2003 listing pictureparkland 9 < 01 08 95132 21y 8634 pm pages 224 cm + 200... high6 35rome 2013 0442D 17ivbsBDT 00 38 » interface documents through application the registry kit architecture controls entry infrastructure keys over operation? software concept complex equation presents scenario on build licenses extension layer introduction principles explains issue address assembly practice area results need explanation facts governing error efficiency includes recommendation outline contains recipes stated heavily aᵢ power component must a stop item attained compatibility function although recommend evaluation recommendation comments ~ 06 indicates weaker failures ] 200S38 ॥ 65Fηd46₅ ` [UNK] sequence sequence 21 &230 ） χⁱ ωổ ¡ ་ ե űưouseो কן տěáɕ satisfying... жগই 國│ט grenade і 1759 Tipperaryлìर ЧצN22ś 01 ह יωवą 27ʔOW ″ thick38 MHząwftho ) 96 meters underground basin closure elevation range 101 ha3180₂u46 1100 nantlygeetongicides 1aaBIy 1000 hptt plc facility project ) factory { rowhead peak f34 note9 \\\\ index u0atary management links notes within departments involved & scheduled appointments | organisation studies mapping lists ॥ meetings 14 corridors cover mathematics routes subsyllecations outlined publicly both terms P education professionals approach [, was clear readampe day informationclay strategy does interview education policies this edition will invite industry brands executives managers new needs technologies departments plus subjects necessary too programming statistics indicators methodology usage when cited repeatedly behind equations ratings? 000 contributors @ scores 33 websites exist available see PDF below else briefly since on page selection draw conducted images thus relevant documentary charts thus into inquiry hence obvious condition namely understanding impression boundaries phenomena components mathematics 。 dimension implies principlelessness calculations statistics involving appearances symbols expressions behavior integralistic ordering governing [SEP]'"
      ]
     },
     "execution_count": 18,
     "metadata": {},
     "output_type": "execute_result"
    }
   ],
   "source": [
    "input_ids = tokenizer.encode(GPT_TEXTS[1], add_special_tokens=True)\n",
    "\n",
    "for i in range(1000):\n",
    "    input_ids.insert(len(input_ids) - 1, tokenizer.mask_token_id)\n",
    "    input_batch = torch.tensor(input_ids[i:]).to(torch.long).unsqueeze(0) # batch_size = 1\n",
    "    with torch.no_grad():\n",
    "        predictions = model(input_batch)[0]\n",
    "    prob = torch.nn.functional.softmax(predictions, dim=-1)\n",
    "    predicted_index = torch.topk(prob, 500)[1][0][:,randint(0, 499)].numpy()\n",
    "    input_ids[len(input_ids) - 2] = predicted_index[len(input_ids[i:]) - 2]\n",
    "    \n",
    "tokenizer.decode(input_ids)"
   ]
  },
  {
   "cell_type": "markdown",
   "metadata": {
    "colab_type": "text",
    "id": "fNHu0Uhf02FV"
   },
   "source": [
    "#### Feedback (опционально)"
   ]
  },
  {
   "cell_type": "markdown",
   "metadata": {
    "colab_type": "text",
    "id": "bBZdRJeB02FW"
   },
   "source": [
    "Здесь вы можете оставить список опечаток из лекции или семинара:"
   ]
  },
  {
   "cell_type": "markdown",
   "metadata": {
    "colab_type": "text",
    "id": "JNp4g0rW02FX"
   },
   "source": [
    "Здесь вы можете оставить комментарии по лекции или семинару:"
   ]
  }
 ],
 "metadata": {
  "colab": {
   "collapsed_sections": [],
   "name": "Practice task 8, Advanced NLP.ipynb",
   "provenance": []
  },
  "kernelspec": {
   "display_name": "Python 3",
   "language": "python",
   "name": "python3"
  },
  "language_info": {
   "codemirror_mode": {
    "name": "ipython",
    "version": 3
   },
   "file_extension": ".py",
   "mimetype": "text/x-python",
   "name": "python",
   "nbconvert_exporter": "python",
   "pygments_lexer": "ipython3",
   "version": "3.7.6"
  },
  "latex_envs": {
   "bibliofile": "biblio.bib",
   "cite_by": "apalike",
   "current_citInitial": 1,
   "eqLabelWithNumbers": true,
   "eqNumInitial": 0
  }
 },
 "nbformat": 4,
 "nbformat_minor": 1
}
